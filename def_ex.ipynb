{
 "cells": [
  {
   "cell_type": "code",
   "execution_count": 1,
   "metadata": {},
   "outputs": [
    {
     "name": "stdout",
     "output_type": "stream",
     "text": [
      "what's your name? :Yu Kyung\n",
      "Nice to meet you, Yu Kyung.\n"
     ]
    }
   ],
   "source": [
    "def hello():\n",
    "    name = input(\"what's your name? :\" )\n",
    "    print(\"Nice to meet you, \"+ name +\".\")\n",
    "\n",
    "hello()"
   ]
  },
  {
   "cell_type": "code",
   "execution_count": 3,
   "metadata": {},
   "outputs": [
    {
     "name": "stdout",
     "output_type": "stream",
     "text": [
      "nice to meet you YU.\n"
     ]
    }
   ],
   "source": [
    "def hello(name):\n",
    "    print(\"nice to meet you \" + name +\".\")\n",
    "hello(\"YU\")"
   ]
  },
  {
   "cell_type": "code",
   "execution_count": 7,
   "metadata": {},
   "outputs": [],
   "source": [
    "class Car:\n",
    "    def __init__(self, fuel):\n",
    "        self.fuel = fuel\n",
    "        self.speed = 0\n",
    "        print('fuel =', fuel)\n",
    "    \n",
    "    def show(self):\n",
    "        print('speed= ', self.speed, 'fuel =', self.fuel)\n",
    "        \n",
    "    def speed_up(self):\n",
    "        self.fuel = self.fuel -1\n",
    "        self.speed = self.speed +1"
   ]
  },
  {
   "cell_type": "code",
   "execution_count": 8,
   "metadata": {},
   "outputs": [
    {
     "name": "stdout",
     "output_type": "stream",
     "text": [
      "fuel = 5\n",
      "speed=  1 fuel = 4\n"
     ]
    }
   ],
   "source": [
    "benz = Car(5) #1클래스로 객체 만들기\n",
    "benz.speed_up() #2 객체 benz 안의 speed_up() 함수 실행\n",
    "benz.show() #3 객체 benz 안의 show() 함수 실행"
   ]
  },
  {
   "cell_type": "code",
   "execution_count": 9,
   "metadata": {},
   "outputs": [
    {
     "name": "stdout",
     "output_type": "stream",
     "text": [
      "fuel = 5\n",
      "fuel = 7\n",
      "speed=  2 fuel = 3\n",
      "speed=  1 fuel = 6\n"
     ]
    }
   ],
   "source": [
    "benz = Car(5) # 1 car 클래스로 객체 benz 만들기\n",
    "bmw = Car(7)\n",
    "\n",
    "benz.speed_up() \n",
    "benz.speed_up()\n",
    "benz.show()\n",
    "\n",
    "bmw.speed_up()\n",
    "bmw.show()"
   ]
  },
  {
   "cell_type": "code",
   "execution_count": null,
   "metadata": {},
   "outputs": [],
   "source": []
  }
 ],
 "metadata": {
  "kernelspec": {
   "display_name": "Python 3",
   "language": "python",
   "name": "python3"
  },
  "language_info": {
   "codemirror_mode": {
    "name": "ipython",
    "version": 3
   },
   "file_extension": ".py",
   "mimetype": "text/x-python",
   "name": "python",
   "nbconvert_exporter": "python",
   "pygments_lexer": "ipython3",
   "version": "3.7.8"
  }
 },
 "nbformat": 4,
 "nbformat_minor": 4
}
